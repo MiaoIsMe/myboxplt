{
 "cells": [
  {
   "cell_type": "code",
   "execution_count": 1,
   "metadata": {},
   "outputs": [],
   "source": [
    "#!/usr/bin/python3\n",
    "# -*- coding: UTF-8 -*-\n",
    "import pandas as pd\n",
    "import matplotlib.pyplot as plt\n",
    "import numpy as np\n",
    "class myplt():\n",
    "    def cal_Quantile(da):\n",
    "        if da.count()%2==0:\n",
    "            p_50=(da[int(da.count()/2-0.5)]+da[int(da.count()/2)])/2\n",
    "            da1=da[:int(da.count()/2)]\n",
    "        else:\n",
    "            p_50=da[int(da.count()/2)]\n",
    "            da1=da[:int((da.count()+1)/2)]\n",
    "        if da1.count()%2==0:\n",
    "            p_75=(da1[int(da1.count()/2-0.5)]+da1[int(da1.count()/2)])/2\n",
    "            da2=da[int(da.count()/2):]\n",
    "        else:\n",
    "            p_75=da1[int(da1.count()/2)]\n",
    "            da2=da[int((da.count()+1)/2):]\n",
    "        da2.reset_index(drop=True, inplace=True)\n",
    "        if da2.count()%2==0:\n",
    "            p_25=(da2[int(da2.count()/2-0.5)]+da2[int(da2.count()/2)])/2\n",
    "        else:\n",
    "            p_25=da2[int(da2.count()/2)]\n",
    "        da3=da[int(da1.count()/2):(int(da2.count()/2)+int(da.count()/2))]\n",
    "        da3.reset_index(drop=True, inplace=True)\n",
    "        return (p_25,p_50,p_75,da3)\n",
    "    def cal_max_min(da,p_25,p_75):\n",
    "        ma=da[da<(p_75+(p_75-p_25)*1.5)].max()\n",
    "        mi=da[da>(p_25-(p_75-p_25)*1.5)].min()\n",
    "        return (ma,mi)\n",
    "    def find_ex_point(data):\n",
    "        da=pd.Series(data).astype(int)\n",
    "        da=da.sort_values(ascending=False)\n",
    "        da.reset_index(drop=True, inplace=True)\n",
    "        p_25,p_50,p_75=myplt.cal_Quantile(da)[:3]\n",
    "        da_ex=da[(da<(p_25-(p_75-p_25)*1.5)) | (da>(p_75+(p_75-p_25)*1.5))]\n",
    "        return da_ex\n",
    "    def cul_all_max_min(data_l):\n",
    "        data_l=[[int(i) for i in k] for k in data_l]\n",
    "        return (max([max(i) for i in data_l]),min([min(i) for i in data_l]))\n",
    "    def cul_step(da_ma,da_mi):\n",
    "        n=(da_ma-da_mi)/4\n",
    "        count=0\n",
    "        while n>10:\n",
    "            count+=1\n",
    "            n/=10\n",
    "        step=int(n)*10**count\n",
    "        return step\n",
    "    def info_boxplot(ax,data_l,multiplebox=True,linecolor='black',pointcolor='black'):\n",
    "        ax.cla()\n",
    "        lenth=len(data_l)\n",
    "        ax.set_xlim((0,lenth+1))\n",
    "        tick_x=range(1,lenth+1)\n",
    "        ax.set_xticks(tick_x)\n",
    "        ax.set_xticklabels([str(i) for i in tick_x])\n",
    "        def cal_per5(da3):\n",
    "            per_5=[]\n",
    "            add=da3.count()*0.1\n",
    "            count=0\n",
    "            for i in range(9):\n",
    "                count+=add\n",
    "                per_5.append(da3[int(count-1)])\n",
    "            return per_5\n",
    "        def draw_boxplot(ax,mi,ma,p_25,p_50,p_75,multiplebox,da_ex,per_5,k,linecolor='black',pointcolor='black'):\n",
    "            ax.vlines(k,mi,p_25,color=linecolor,linewidth=1)\n",
    "            ax.vlines(k,p_75,ma,color=linecolor,linewidth=1)\n",
    "            ax.hlines(mi,k-0.15,k+0.15,color=linecolor,linewidth=1)\n",
    "            ax.hlines(ma,k-0.15,k+0.15,color=linecolor,linewidth=1)\n",
    "            rect = plt.Rectangle((k-0.25,p_25),0.5,p_75-p_25,linewidth=1, edgecolor=linecolor, facecolor='none')\n",
    "            ax.add_patch(rect)\n",
    "            #异常点\n",
    "            for i in da_ex.values:\n",
    "                ax.text(k,i , \"o\",color=pointcolor, fontsize=5, verticalalignment=\"center\",horizontalalignment='center')\n",
    "                #ax.scatter(k,i,color='white', marker='o', edgecolors='black')\n",
    "            ax.vlines(k,da_ex.min(),da_ex.max(),color='white',linewidth=1,zorder=0)\n",
    "            if (not multiplebox):\n",
    "                ax.hlines(p_50,k-0.25,k+0.25,color=linecolor,linewidth=1)\n",
    "            else:\n",
    "                #5%\n",
    "                for i in per_5:\n",
    "                    ax.hlines(i,k-0.25,k+0.25,color=linecolor,linewidth=1)\n",
    "                ax.hlines(p_50,k-0.25,k+0.25,color=linecolor,linewidth=3)\n",
    "        def main_box(ax,data,multiplebox,k,linecolor,pointcolor):\n",
    "            da=pd.Series(data).astype(int)\n",
    "            da=da.sort_values(ascending=False)\n",
    "            da.reset_index(drop=True, inplace=True)\n",
    "            p_25,p_50,p_75,da3=myplt.cal_Quantile(da)\n",
    "            per_5=cal_per5(da3)\n",
    "            per_5[4]=p_50\n",
    "            ma,mi=myplt.cal_max_min(da,p_25,p_75)\n",
    "            da_ex=da[(da<(p_25-(p_75-p_25)*1.5)) | (da>(p_75+(p_75-p_25)*1.5))]\n",
    "            draw_boxplot(ax,mi,ma,p_25,p_50,p_75,multiplebox,da_ex,per_5,k,linecolor,pointcolor)\n",
    "        for k in range(lenth):\n",
    "            main_box(ax,data_l[k],multiplebox,k+1,linecolor,pointcolor)\n",
    "    def histobox_plot(ax, data_l,linecolor='black',pointcolor='black',boxcolor='lavender'):\n",
    "        ax.cla()\n",
    "        lenth=len(data_l)\n",
    "        ax.set_xlim((0,lenth+1))\n",
    "        tick_x=range(1,lenth+1)\n",
    "        ax.set_xticks(tick_x)\n",
    "        ax.set_xticklabels([str(i) for i in tick_x])\n",
    "        def normal_his(da,Rec_begin):\n",
    "            his_l=[]\n",
    "            for i in range(len(Rec_begin)-1):\n",
    "                his_l.append(da[(da<Rec_begin[i+1]) & (da>=Rec_begin[i])].count())\n",
    "            his_l.append(da[da>=Rec_begin[len(Rec_begin)-1]].count())\n",
    "            ma_l=max(his_l)\n",
    "            mi_l=min(his_l)\n",
    "            his_nor=[((i-mi_l)/(ma_l-mi_l))*0.55 for i in his_l]\n",
    "            #标准化 [0,1]*0.55\n",
    "            return his_nor\n",
    "        def draw_histobox(ax,mi,ma,p_25,p_50,p_75,da_ex,Rec_begin,his_nor,da_m,da_n,k,linecolor='black',pointcolor='black',boxcolor='lavender'):\n",
    "            ax.vlines(k,mi,ma,color=linecolor,linewidth=1)\n",
    "            ax.hlines(mi,k-0.15,k,color=linecolor,linewidth=1)\n",
    "            ax.hlines(ma,k-0.15,k,color=linecolor,linewidth=1)\n",
    "            ax.hlines(p_50,k-0.25,k,color=linecolor,linewidth=1)\n",
    "            rect = plt.Rectangle((k-0.25,p_25),0.25,p_75-p_25,linewidth=1, edgecolor=linecolor, facecolor='none')\n",
    "            ax.add_patch(rect)\n",
    "            for i in da_ex.values:\n",
    "                ax.text(k,i , \"o\", fontsize=5,color=pointcolor, verticalalignment=\"center\",horizontalalignment='center')\n",
    "                #ax.scatter(k,i,color='white', marker='o', edgecolors='black')\n",
    "            ax.vlines(k,da_ex.min(),da_ex.max(),color='white',linewidth=1,zorder=0)\n",
    "            for i in range(len(Rec_begin)):\n",
    "                rect = plt.Rectangle((k,Rec_begin[i]),0.15+his_nor[i],(da_m-da_n)/10,linewidth=1,edgecolor=linecolor, facecolor=boxcolor)\n",
    "                ax.add_patch(rect)\n",
    "        def main_box(ax,data,k,linecolor,pointcolor,boxcolor):\n",
    "            da=pd.Series(data).astype(int)\n",
    "            da=da.sort_values(ascending=False)\n",
    "            da.reset_index(drop=True, inplace=True)\n",
    "            p_25,p_50,p_75=myplt.cal_Quantile(da)[:3]\n",
    "            ma,mi=myplt.cal_max_min(da,p_25,p_75)\n",
    "            da_ex=da[(da<(p_25-(p_75-p_25)*1.5)) | (da>(p_75+(p_75-p_25)*1.5))]\n",
    "            #这里改\n",
    "            Rec_begin=np.arange(da.min(),da.max(),(da.max()-da.min())/10)\n",
    "            his_nor=normal_his(da,Rec_begin)\n",
    "            draw_histobox(ax,mi,ma,p_25,p_50,p_75,da_ex,Rec_begin,his_nor,da.max(),da.min(),k,linecolor,pointcolor,boxcolor)\n",
    "        for k in range(lenth):\n",
    "            main_box(ax,data_l[k],k+1,linecolor,pointcolor,boxcolor)\n",
    "    def creative_boxplot(ax, data_l,linecolor='black',pointcolor='black',boxcolor='lavender'):\n",
    "        ax.cla()\n",
    "        lenth=len(data_l)\n",
    "        ax.set_xlim((0,lenth*3+1))#lenth+lenth*2+1\n",
    "        tick_x=range(1,lenth*3+1)\n",
    "        his_x=list(tick_x)[:lenth]\n",
    "        sim_x=[j for j in list(tick_x)[lenth:] if j%2==0]\n",
    "        ax.set_xticks(his_x+sim_x)\n",
    "        ax.set_xticklabels([str(i) for i in his_x]+[\"zoom\"+str(i) for i in his_x])\n",
    "        da_ma,da_mi=myplt.cul_all_max_min(data_l)\n",
    "        step=myplt.cul_step(da_ma,da_mi)\n",
    "        tick_y=list(range(da_mi-(da_mi%step),da_ma+step*2,step))\n",
    "        ax.set_ylim((tick_y[0]-step/6,tick_y[-1]+step/6))\n",
    "        ax.set_yticks(tick_y)\n",
    "        ax.set_yticklabels([str(i) for i in tick_y])\n",
    "        def normal_his(da,Rec_begin):\n",
    "            his_l=[]\n",
    "            for i in range(len(Rec_begin)-1):\n",
    "                his_l.append(da[(da<Rec_begin[i+1]) & (da>=Rec_begin[i])].count())\n",
    "            his_l.append(da[da>=Rec_begin[len(Rec_begin)-1]].count())\n",
    "            ma_l=max(his_l)\n",
    "            mi_l=min(his_l)\n",
    "            his_nor=[((i-mi_l)/(ma_l-mi_l))*0.55 for i in his_l]\n",
    "            #标准化 [0,1]*0.55\n",
    "            return his_nor\n",
    "        def draw_histobox(ax,mi,ma,p_25,p_50,p_75,da_ex,Rec_begin,his_nor,da_m,da_n,k,linecolor='black',pointcolor='black',boxcolor='lavender'):\n",
    "            ax.vlines(k,mi,ma,color=linecolor,linewidth=1)\n",
    "            ax.hlines(mi,k-0.15,k,color=linecolor,linewidth=1)\n",
    "            ax.hlines(ma,k-0.15,k,color=linecolor,linewidth=1)\n",
    "            ax.hlines(p_50,k-0.25,k,color=linecolor,linewidth=1)\n",
    "            rect = plt.Rectangle((k-0.25,p_25),0.25,p_75-p_25,linewidth=1, edgecolor=linecolor, facecolor='none')\n",
    "            ax.add_patch(rect)\n",
    "            for i in da_ex.values:\n",
    "                ax.text(k,i , \"o\", fontsize=5,color=pointcolor, verticalalignment=\"center\",horizontalalignment='center')\n",
    "                #ax.scatter(k,i,color='white', marker='o', edgecolors='black')\n",
    "            ax.vlines(k,da_ex.min(),da_ex.max(),color='white',linewidth=1,zorder=0)\n",
    "            for i in range(len(Rec_begin)):\n",
    "                rect = plt.Rectangle((k,Rec_begin[i]),0.15+his_nor[i],(da_m-da_n)/10,linewidth=1,edgecolor=linecolor, facecolor=boxcolor)\n",
    "                ax.add_patch(rect)\n",
    "        def draw_y_axis(mi,ma,step,step1,lenth,tick_y,ratio,k):\n",
    "            tick_y1=list(range(mi-(mi%step1),ma+step1*2,step1))\n",
    "            while len(tick_y1)!=len(tick_y):\n",
    "                if (len(tick_y1)<len(tick_y)):\n",
    "                    tick_y1.append(tick_y1[-1]+step1)\n",
    "                else:\n",
    "                    tick_y1.pop()\n",
    "            ax.vlines(lenth+2*k-1,(tick_y1[0]-step/6)*ratio,(tick_y1[-1]+step/6)*ratio,color='black',linewidth=1)\n",
    "            for i in tick_y1:\n",
    "                ax.hlines(i*ratio,lenth+2*k-1-0.05,lenth+2*k-1,color='black',linewidth=1)\n",
    "                ax.text(lenth+2*k-1-0.05, i*ratio , str(i), fontsize=10, verticalalignment=\"center\",horizontalalignment='right')\n",
    "        def draw_sim_box(ax,mi,ma,p_25,p_50,p_75,ratio,k,lenth,linecolor='black'):\n",
    "            ax.vlines(lenth+2*k,mi*ratio,p_25*ratio,color=linecolor,linewidth=1)\n",
    "            ax.vlines(lenth+2*k,p_75*ratio,ma*ratio,color=linecolor,linewidth=1)\n",
    "            ax.hlines(mi*ratio,lenth+2*k-0.15,lenth+2*k+0.15,color=linecolor,linewidth=1)\n",
    "            ax.hlines(ma*ratio,lenth+2*k-0.15,lenth+2*k+0.15,color=linecolor,linewidth=1)\n",
    "            rect = plt.Rectangle((lenth+2*k-0.25,p_25*ratio),0.5,(p_75-p_25)*ratio,linewidth=1, edgecolor=linecolor, facecolor='none')\n",
    "            ax.add_patch(rect)\n",
    "            ax.hlines(p_50*ratio,lenth+2*k-0.25,lenth+2*k+0.25,color=linecolor,linewidth=3)\n",
    "        def main_box(ax,data,k,linecolor,pointcolor,boxcolor):\n",
    "            da=pd.Series(data).astype(int)\n",
    "            da=da.sort_values(ascending=False)\n",
    "            da.reset_index(drop=True, inplace=True)\n",
    "            p_25,p_50,p_75=myplt.cal_Quantile(da)[:3]\n",
    "            ma,mi=myplt.cal_max_min(da,p_25,p_75)\n",
    "            step1=myplt.cul_step(ma,mi)\n",
    "            ratio=step/step1\n",
    "            da_ex=da[(da<(p_25-(p_75-p_25)*1.5)) | (da>(p_75+(p_75-p_25)*1.5))]\n",
    "            Rec_begin=np.arange(da.min(),da.max(),(da.max()-da.min())/10)\n",
    "            his_nor=normal_his(da,Rec_begin)\n",
    "            draw_histobox(ax,mi,ma,p_25,p_50,p_75,da_ex,Rec_begin,his_nor,da.max(),da.min(),k,linecolor,pointcolor,boxcolor)\n",
    "            draw_y_axis(mi,ma,step,step1,lenth,tick_y,ratio,k)\n",
    "            draw_sim_box(ax,mi,ma,p_25,p_50,p_75,ratio,k,lenth,linecolor)\n",
    "        for k in range(lenth):\n",
    "            main_box(ax,data_l[k],k+1,linecolor,pointcolor,boxcolor)"
   ]
  },
  {
   "cell_type": "markdown",
   "metadata": {},
   "source": [
    "# The above code completes the myplt class, and the following is a use example"
   ]
  },
  {
   "cell_type": "code",
   "execution_count": 2,
   "metadata": {},
   "outputs": [],
   "source": [
    "#run test\n",
    "df=pd.read_csv(\"results_merged.csv\")\n",
    "data=df[[\"stars\",\"contributors\",\"commits\",\"forks\"]]"
   ]
  },
  {
   "cell_type": "markdown",
   "metadata": {},
   "source": [
    "# The data is input as a pandas, and the following code converts pandas into a list nested and then enters it as a parameter"
   ]
  },
  {
   "cell_type": "code",
   "execution_count": 3,
   "metadata": {},
   "outputs": [
    {
     "data": {
      "image/png": "[encoded data removed]",
      "text/plain": [
       "<Figure size 432x288 with 1 Axes>"
      ]
     },
     "metadata": {
      "needs_background": "light"
     },
     "output_type": "display_data"
    }
   ],
   "source": [
    "fig, ax = plt.subplots()\n",
    "myplt.info_boxplot(ax,[list(data[i]) for i in list(data)],linecolor='blue',pointcolor='green')"
   ]
  },
  {
   "cell_type": "markdown",
   "metadata": {},
   "source": [
    "# After processing, the data becomes a list nested list. Initialize the fig, ax. And the info_ boxplot() with screen cleaning code ax.cla ().\n",
    "## The default parameter multiplebox is true, and the image includes 5% complex boxplot. When the parameter is false, a simple box diagram is drawn as follows"
   ]
  },
  {
   "cell_type": "code",
   "execution_count": 4,
   "metadata": {},
   "outputs": [
    {
     "data": {
      "image/png": "[encoded data removed]",
      "text/plain": [
       "<Figure size 432x288 with 1 Axes>"
      ]
     },
     "execution_count": 4,
     "metadata": {},
     "output_type": "execute_result"
    }
   ],
   "source": [
    "myplt.info_boxplot(ax,[list(data[i]) for i in list(data)],False)\n",
    "fig"
   ]
  },
  {
   "cell_type": "markdown",
   "metadata": {},
   "source": [
    "# There is too much exception data, so the box image is not obvious. The following is the data after removing the first exception. And then people can see the multiplebox."
   ]
  },
  {
   "cell_type": "code",
   "execution_count": 5,
   "metadata": {},
   "outputs": [],
   "source": [
    "da_ex=myplt.find_ex_point(list(data['stars']))\n",
    "data1=[i for i in data['stars'] if i not in list(da_ex)]"
   ]
  },
  {
   "cell_type": "code",
   "execution_count": 6,
   "metadata": {
    "scrolled": false
   },
   "outputs": [
    {
     "data": {
      "image/png": "[encoded data removed]",
      "text/plain": [
       "<Figure size 432x288 with 1 Axes>"
      ]
     },
     "execution_count": 6,
     "metadata": {},
     "output_type": "execute_result"
    }
   ],
   "source": [
    "myplt.info_boxplot(ax,[data1],linecolor='blue',pointcolor='green')\n",
    "fig"
   ]
  },
  {
   "cell_type": "markdown",
   "metadata": {},
   "source": [
    "# The histogram on the right side of the boxplot shows the frequency of data distribution. From the minimum value to the maximum value of the data set, it is divided into ten equal parts according to the value size, and then counts in each interval. Finally, the data is standardized to convert the data into the number of [0.15,0.7]."
   ]
  },
  {
   "cell_type": "code",
   "execution_count": 7,
   "metadata": {},
   "outputs": [
    {
     "data": {
      "image/png": "[encoded data removed]",
      "text/plain": [
       "<Figure size 432x288 with 1 Axes>"
      ]
     },
     "execution_count": 7,
     "metadata": {},
     "output_type": "execute_result"
    }
   ],
   "source": [
    "myplt.histobox_plot(ax,[list(data[i]) for i in list(data)],linecolor='blue',pointcolor='green',boxcolor='red')\n",
    "fig"
   ]
  },
  {
   "cell_type": "markdown",
   "metadata": {},
   "source": [
    "# The creative_ boxplot () draws an enlarged version of the corresponding image just behind the image."
   ]
  },
  {
   "cell_type": "code",
   "execution_count": 8,
   "metadata": {},
   "outputs": [
    {
     "data": {
      "image/png": "[encoded data removed]",
      "text/plain": [
       "<Figure size 432x288 with 1 Axes>"
      ]
     },
     "execution_count": 8,
     "metadata": {},
     "output_type": "execute_result"
    }
   ],
   "source": [
    "myplt.creative_boxplot(ax,[list(data[i]) for i in list(data)],linecolor='blue',pointcolor='green',boxcolor='red')\n",
    "fig"
   ]
  },
  {
   "cell_type": "code",
   "execution_count": null,
   "metadata": {},
   "outputs": [],
   "source": []
  }
 ],
 "metadata": {
  "kernelspec": {
   "display_name": "Python 3",
   "language": "python",
   "name": "python3"
  },
  "language_info": {
   "codemirror_mode": {
    "name": "ipython",
    "version": 3
   },
   "file_extension": ".py",
   "mimetype": "text/x-python",
   "name": "python",
   "nbconvert_exporter": "python",
   "pygments_lexer": "ipython3",
   "version": "3.7.3"
  }
 },
 "nbformat": 4,
 "nbformat_minor": 2
}
